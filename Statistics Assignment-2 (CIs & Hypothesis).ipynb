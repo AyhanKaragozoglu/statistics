{
 "cells": [
  {
   "cell_type": "code",
   "execution_count": 74,
   "id": "4ddaf9cd",
   "metadata": {},
   "outputs": [],
   "source": [
    "import pandas as pd\n",
    "import numpy as np\n",
    "from scipy import stats\n",
    "import seaborn as sns"
   ]
  },
  {
   "cell_type": "markdown",
   "id": "53db8ffd",
   "metadata": {},
   "source": []
  },
  {
   "cell_type": "markdown",
   "id": "df46a5c5",
   "metadata": {},
   "source": [
    "CONFIDENCE INTERVALS\n",
    "\n",
    "EXERCISE 1. What is the normal body temperature for healthy humans? A random sample of 130 healthy human body temperatures provided by Allen Shoemaker yielded 98.25 degrees and standard deviation 0.73 degrees. \n",
    "\n",
    "Give a 99% confidence interval for the average body temperature of healthy people."
   ]
  },
  {
   "cell_type": "code",
   "execution_count": null,
   "id": "e73aad37",
   "metadata": {},
   "outputs": [],
   "source": [
    "xbar = sample mean\n",
    "z = z-score (calculated from confidence level)\n",
    "𝜎 = standard deviation \n",
    "n = sample size "
   ]
  },
  {
   "cell_type": "code",
   "execution_count": null,
   "id": "999bd1b1",
   "metadata": {},
   "outputs": [],
   "source": [
    "Sağlıklı insanlar için normal vücut sıcaklığı nedir? Allen Shoemaker tarafından sağlanan 130 sağlıklı insan vücut sıcaklığından rastgele bir örnek 98.25 derece ve standart sapma 0.73 derece verdi.\n",
    "\n",
    "Sağlıklı insanların ortalama vücut ısısı için %99 güven aralığı verin."
   ]
  },
  {
   "cell_type": "markdown",
   "id": "08da3e78",
   "metadata": {},
   "source": [
    "The t distribution (or Student’s t Distribution) is a family of distributions that look very similar to the normal distribution curve, only a bit shorter and fatter. The t distribution is used to estimate population parameters when the sample size is small and/or when the population standard deviation (σ) is unknown. \n",
    "\n",
    "The larger the sample size, the more the t distribution approaches the normal distribution. For sample sizes larger than 30, the distribution is very similar to the normal distribution. "
   ]
  },
  {
   "cell_type": "markdown",
   "id": "0013776e",
   "metadata": {},
   "source": [
    "💡t Distribution\n",
    "t is more spread out than z. It is \"flatter\" than normal. This is because the use of s introduces more uncertainty, making t \"sloppier\" than z.\n",
    "The amount of spread depends on the sample size. The greater the sample size, the more confident we can be that s is near σ, and the closer t gets to z, the normal.\n",
    "Degrees of freedom (dof or d.f.): Given n pieces of data, you use up one \"degree of freedom\" when you compute x̄, leaving n-1 independent pieces of information.\n",
    "Source: Gonick, L., Smith, W., & Smith, W. (1993). The cartoon guide to statistics. New York: HarperPerennial."
   ]
  },
  {
   "cell_type": "code",
   "execution_count": null,
   "id": "0963966a",
   "metadata": {},
   "outputs": [],
   "source": [
    "n = len(grades)            #sample size\n",
    "sigma = 28                 #population standard deviation (from past experiences)\n",
    "sem = sigma / np.sqrt(n)   #standard error of the mean\n",
    "print(sem)"
   ]
  },
  {
   "cell_type": "code",
   "execution_count": 15,
   "id": "d5dc2545",
   "metadata": {},
   "outputs": [],
   "source": [
    "n = 130\n",
    "std = 0.73\n",
    "xbar  = 98.25\n"
   ]
  },
  {
   "cell_type": "code",
   "execution_count": 16,
   "id": "b21a8bb6",
   "metadata": {},
   "outputs": [],
   "source": [
    "aplha = 0.99\n"
   ]
  },
  {
   "cell_type": "code",
   "execution_count": 17,
   "id": "6aeaaa03",
   "metadata": {},
   "outputs": [
    {
     "data": {
      "text/plain": [
       "0.06402523540941313"
      ]
     },
     "execution_count": 17,
     "metadata": {},
     "output_type": "execute_result"
    }
   ],
   "source": [
    "sem= std/ np.sqrt(n)\n",
    "sem"
   ]
  },
  {
   "cell_type": "code",
   "execution_count": 18,
   "id": "a0f08f21",
   "metadata": {},
   "outputs": [],
   "source": [
    "#stats.t.interval(confidence=0.99,                                       #CONFIDENCE LEVEL\n",
    "#                 df=tips[tips[\"day\"] == \"Sat\"][\"total_bill\"].count()-1, #DEGREES OF FREEDOM (N-1)\n",
    "#                 loc=tips[tips[\"day\"] == \"Sat\"][\"total_bill\"].mean(),   #MEAN\n",
    "#                 scale=tips[tips[\"day\"] == \"Sat\"][\"total_bill\"].sem())  #STANDARD ERROR OF THE MEAN"
   ]
  },
  {
   "cell_type": "code",
   "execution_count": 19,
   "id": "24ec05ea",
   "metadata": {},
   "outputs": [],
   "source": [
    "#stats.t.interval(confidence=0.95, df=n-1, loc=xbar, scale=sem)   #CORRECT"
   ]
  },
  {
   "cell_type": "code",
   "execution_count": 20,
   "id": "7b52a52a",
   "metadata": {},
   "outputs": [
    {
     "data": {
      "text/plain": [
       "(98.08260738705933, 98.41739261294067)"
      ]
     },
     "execution_count": 20,
     "metadata": {},
     "output_type": "execute_result"
    }
   ],
   "source": [
    "stats.t.interval(confidence=0.99, df = 129, loc = xbar, scale = sem)"
   ]
  },
  {
   "cell_type": "code",
   "execution_count": null,
   "id": "920ac86e",
   "metadata": {},
   "outputs": [],
   "source": []
  },
  {
   "cell_type": "markdown",
   "id": "f5f3cb94",
   "metadata": {},
   "source": [
    "EXERCISE 2. The administrators for a hospital wished to estimate the average number of days required for inpatient treatment of patients between the ages of 25 and 34. A random sample of 500 hospital patients between these ages produced a mean and standard deviation equal to 5.4 and 3.1 days, respectively.\n",
    "\n",
    "Construct a 95% confidence interval for the mean length of stay for the population of patients from which the sample was drawn.\n",
    "\n"
   ]
  },
  {
   "cell_type": "code",
   "execution_count": null,
   "id": "897cfbe5",
   "metadata": {},
   "outputs": [],
   "source": []
  },
  {
   "cell_type": "code",
   "execution_count": 21,
   "id": "2dc21f3e",
   "metadata": {},
   "outputs": [],
   "source": [
    "n = 500\n",
    "std = 3.1\n",
    "xbar  = 5.4"
   ]
  },
  {
   "cell_type": "code",
   "execution_count": 22,
   "id": "8af314d9",
   "metadata": {},
   "outputs": [
    {
     "data": {
      "text/plain": [
       "0.13863621460498696"
      ]
     },
     "execution_count": 22,
     "metadata": {},
     "output_type": "execute_result"
    }
   ],
   "source": [
    "sem= std/ np.sqrt(n)\n",
    "sem"
   ]
  },
  {
   "cell_type": "code",
   "execution_count": 26,
   "id": "6847dc43",
   "metadata": {},
   "outputs": [
    {
     "data": {
      "text/plain": [
       "(5.127617354510309, 5.672382645489692)"
      ]
     },
     "execution_count": 26,
     "metadata": {},
     "output_type": "execute_result"
    }
   ],
   "source": [
    "stats.t.interval(confidence=0.95, df = n-1, loc = xbar, scale = sem)"
   ]
  },
  {
   "cell_type": "code",
   "execution_count": null,
   "id": "a94aeb4a",
   "metadata": {},
   "outputs": [],
   "source": []
  },
  {
   "cell_type": "code",
   "execution_count": null,
   "id": "eefbfe27",
   "metadata": {},
   "outputs": [],
   "source": []
  },
  {
   "cell_type": "markdown",
   "id": "7d89309e",
   "metadata": {},
   "source": [
    "HYPOTHESIS TESTING"
   ]
  },
  {
   "cell_type": "markdown",
   "id": "9d558265",
   "metadata": {},
   "source": [
    "The null hypothesis always expresses equality and it is the thing we are trying to provide evidence against. However, the alternative hypothesis is usually the idea we are studying about and typically it is the thing that we want to prove.A significance test has five steps. In this section, we introduce the general ideas behind these steps.\n",
    "\n",
    "1. Assumptions\n",
    "First, specify the variable and parameter. The assumptions commonly pertain to the method of data production (randomization), the sample size, and the shape of the population distribution.\n",
    "\n",
    "2. Hypotheses\n",
    "State the null hypothesis, H0 (a single parameter value, usually no effect), and the alternative hypothesis, Ha (a set of alternative parameter values)\n",
    "\n",
    "Example-1\n",
    "Null Hypotheses :\n",
    "The population mean time to answer customer complaints was 5 minutes in 2020.\n",
    "\n",
    "Alternative Hypotheses :\n",
    "The population mean time to answer customer complaints was not 5 minutes in 2020.\n",
    "\n",
    "Example-2\n",
    "Null Hypotheses :\n",
    "The average weight for men is the same as the average weight for women in USA.\n",
    "\n",
    "Alternative Hypotheses :\n",
    "The average weight for men is not the same as the average weight for women in USA.\n",
    "\n",
    "3. Test Statistic\n",
    "The parameter to which the hypotheses refer has a point estimate. A test statistic describes how far that point estimate falls from the parameter value given in the null hypothesis. Usually this distance is measured by the number of standard errors between the point estimate and the parameter.\n",
    "\n",
    "4. P-value\n",
    "The P-value is the probability that the test statistic takes the observed value or a value more extreme if we presume H0 is true. Smaller P-values represent stronger evidence against H0.\n",
    "5. Conclusion\n",
    "Report and interpret the P-value in the context of the study. Based on the P-value, make a decision about H0 (either reject or do not reject H0 ) if a decision is needed."
   ]
  },
  {
   "cell_type": "markdown",
   "id": "6bd639d8",
   "metadata": {},
   "source": [
    "One and Two Tailed Tests\n",
    "Two-tailed: Sometimes the Rejection Region is broken into two parts and lies in both tails of the sampling distribution of the test statistic (when H0:μ = μ0 is true)\n",
    "\n",
    "H0: \"Drug has no effect (μ = μ0)\" \n",
    "\n",
    "H1: \"Drug has an effect (μ ≠ μ0)\"\n",
    "\n",
    "One-tailed: Sometimes the Rejection Region lies entirely in one tail of the sampling distribution of the test statistic (when H0:μ = μ0 is true versus H1:μ > μ0).\n",
    "\n",
    "H0: \"Drug has no effect (μ = μ0)\" \n",
    "\n",
    "H1: \"Drug lowers response time (μ < μ0)\" "
   ]
  },
  {
   "cell_type": "markdown",
   "id": "5e64b8f2",
   "metadata": {},
   "source": [
    "Significance Level and P-Value\n",
    "Significance Level\n",
    "The significance level (alpha or α), is a measure of the strength of the evidence to be present in the sample before you will reject the null hypothesis and conclude that the effect is statistically significant. Before conducting the experiment, the researcher determines the significance level. And we can say the typical values for the significance level are 0.1, 0.05, and 0.01.\n",
    "\n",
    "In other words, the significance level is the probability of rejecting the null hypothesis when it is true. For instance, a significance level of 0.05 represents a 5% risk of concluding that a difference exists when there is no actual difference. A lower significance level indicates that we require stronger evidence before rejecting the null hypothesis.\n",
    "\n",
    "P-Value\n",
    "A p-value is the probability that we would obtain the effect observed in our sample, if the null hypothesis is true for the population. P-value is calculated based on our sample data and under the assumption that the null hypothesis is true. A lower p-value indicates greater evidence against the null hypothesis."
   ]
  },
  {
   "cell_type": "markdown",
   "id": "1fddd755",
   "metadata": {},
   "source": [
    "\n",
    "\n",
    "EXERCISE 3. The hourly wages in a particular industry are normally distributed with mean $13.20 and standard deviation $2.50. A company in this industry employs 40 workers, paying them an average of $12.20 per hour. Can this company be accused of paying substandard wages? Use an α = .01 level test. (Wackerly, Ex.10.18)\n",
    "\n"
   ]
  },
  {
   "cell_type": "code",
   "execution_count": null,
   "id": "4a600b15",
   "metadata": {},
   "outputs": [],
   "source": [
    "# Ho: mu = 13.20\n",
    "# Ha: mu < 13.20"
   ]
  },
  {
   "cell_type": "code",
   "execution_count": null,
   "id": "9e37a805",
   "metadata": {},
   "outputs": [],
   "source": [
    "# sample size = 40\n",
    "# sample std = 2.5\n",
    "# sample mean = 12.20"
   ]
  },
  {
   "cell_type": "markdown",
   "id": "9e03811c",
   "metadata": {},
   "source": [
    "alpha = 0.5                                             #alpha\n",
    "mu0 = 10                                                # hypothesized value \n",
    "xbar = 10.5                                             # sample mean \n",
    "sigma = 1.5                                             # population standard deviation \n",
    "n = 40                                                  # sample size \n",
    "z = (xbar-mu0)/(sigma/np.sqrt(n))\n",
    "z                                                       # test statistic \n",
    "\n",
    "\n",
    "pval = 1-stats.norm.cdf(z )                                     # right tail p−value\n",
    "pval                                                            # print p−value\n",
    "\n",
    "\n",
    "\n",
    "if pval < alpha:\n",
    "    print('At {} level of significance, we can reject the null hypothesis in favor of alternative hypothesis.'.format(alpha))\n",
    "else:\n",
    "    print('At {} level of significance, we fail to reject the null hypothesis.'.format(alpha))"
   ]
  },
  {
   "cell_type": "code",
   "execution_count": 28,
   "id": "0c26777a",
   "metadata": {},
   "outputs": [],
   "source": [
    "n = 40\n",
    "mu0 = 13.20\n",
    "sigma = 2.5\n",
    "xbar  = 12.20\n",
    "aplha = 0.01"
   ]
  },
  {
   "cell_type": "code",
   "execution_count": 30,
   "id": "21629e85",
   "metadata": {},
   "outputs": [
    {
     "data": {
      "text/plain": [
       "-2.5298221281347035"
      ]
     },
     "execution_count": 30,
     "metadata": {},
     "output_type": "execute_result"
    }
   ],
   "source": [
    "z = (xbar-mu0)/(sigma/np.sqrt(n))\n",
    "z"
   ]
  },
  {
   "cell_type": "code",
   "execution_count": 38,
   "id": "04114abb",
   "metadata": {},
   "outputs": [
    {
     "data": {
      "text/plain": [
       "0.005706018193000826"
      ]
     },
     "execution_count": 38,
     "metadata": {},
     "output_type": "execute_result"
    }
   ],
   "source": [
    "stats.norm.cdf(z)"
   ]
  },
  {
   "cell_type": "code",
   "execution_count": 39,
   "id": "b55cef97",
   "metadata": {},
   "outputs": [
    {
     "name": "stdout",
     "output_type": "stream",
     "text": [
      "-2.5298221281347035 0.005706018193000826\n"
     ]
    }
   ],
   "source": [
    "print(z, stats.norm.cdf(z))"
   ]
  },
  {
   "cell_type": "markdown",
   "id": "3392fede",
   "metadata": {},
   "source": [
    "CHECK: statistic: -2.5298221281347035, pvalue= 0.005706018193000826"
   ]
  },
  {
   "cell_type": "code",
   "execution_count": null,
   "id": "38b7f2f6",
   "metadata": {},
   "outputs": [],
   "source": []
  },
  {
   "cell_type": "markdown",
   "id": "d8f42400",
   "metadata": {},
   "source": [
    "EXERCISE 4.Shear strength measurements derived from unconfined compression tests for two types of soils gave the results shown in the following document (measurements in tons per square foot). Do the soils appear to differ with respect to average shear strength, at the 1% significance level?\n",
    "\n",
    "Results for two type of soils\n",
    "\n",
    "CHECK: statistic: 5.1681473319343345, pvalue= 2.593228732352821e-06\n",
    "\n"
   ]
  },
  {
   "cell_type": "code",
   "execution_count": 49,
   "id": "71cc5b47",
   "metadata": {},
   "outputs": [
    {
     "data": {
      "text/html": [
       "<div>\n",
       "<style scoped>\n",
       "    .dataframe tbody tr th:only-of-type {\n",
       "        vertical-align: middle;\n",
       "    }\n",
       "\n",
       "    .dataframe tbody tr th {\n",
       "        vertical-align: top;\n",
       "    }\n",
       "\n",
       "    .dataframe thead th {\n",
       "        text-align: right;\n",
       "    }\n",
       "</style>\n",
       "<table border=\"1\" class=\"dataframe\">\n",
       "  <thead>\n",
       "    <tr style=\"text-align: right;\">\n",
       "      <th></th>\n",
       "      <th>Soil1</th>\n",
       "      <th>Soil2</th>\n",
       "    </tr>\n",
       "  </thead>\n",
       "  <tbody>\n",
       "    <tr>\n",
       "      <th>0</th>\n",
       "      <td>1.442</td>\n",
       "      <td>1.364</td>\n",
       "    </tr>\n",
       "    <tr>\n",
       "      <th>1</th>\n",
       "      <td>1.943</td>\n",
       "      <td>1.878</td>\n",
       "    </tr>\n",
       "    <tr>\n",
       "      <th>2</th>\n",
       "      <td>1.110</td>\n",
       "      <td>1.337</td>\n",
       "    </tr>\n",
       "    <tr>\n",
       "      <th>3</th>\n",
       "      <td>1.912</td>\n",
       "      <td>1.828</td>\n",
       "    </tr>\n",
       "    <tr>\n",
       "      <th>4</th>\n",
       "      <td>1.553</td>\n",
       "      <td>1.371</td>\n",
       "    </tr>\n",
       "  </tbody>\n",
       "</table>\n",
       "</div>"
      ],
      "text/plain": [
       "   Soil1  Soil2\n",
       "0  1.442  1.364\n",
       "1  1.943  1.878\n",
       "2  1.110  1.337\n",
       "3  1.912  1.828\n",
       "4  1.553  1.371"
      ]
     },
     "execution_count": 49,
     "metadata": {},
     "output_type": "execute_result"
    }
   ],
   "source": [
    "soil = pd.read_csv(\"soil - Sheet1.csv\")\n",
    "soil.head()\n"
   ]
  },
  {
   "cell_type": "code",
   "execution_count": null,
   "id": "5a197102",
   "metadata": {},
   "outputs": [],
   "source": [
    "ho: Soil1 = soil2\n",
    "h1: soil2 != soil2"
   ]
  },
  {
   "cell_type": "code",
   "execution_count": null,
   "id": "f41b0182",
   "metadata": {},
   "outputs": [],
   "source": []
  },
  {
   "cell_type": "code",
   "execution_count": 71,
   "id": "721d134e",
   "metadata": {},
   "outputs": [
    {
     "data": {
      "text/plain": [
       "Ttest_indResult(statistic=nan, pvalue=nan)"
      ]
     },
     "execution_count": 71,
     "metadata": {},
     "output_type": "execute_result"
    }
   ],
   "source": [
    "stats.ttest_ind(soil[\"Soil1\"], soil[\"Soil2\"], equal_var=True, alternative=\"two-sided\")"
   ]
  },
  {
   "cell_type": "markdown",
   "id": "4a6937f3",
   "metadata": {},
   "source": [
    "EXERCISE 5. The following dataset is based on data provided by the World Bank (https://datacatalog.worldbank.org/dataset/education-statistics). World Bank Edstats.  2015 PISA Test Dataset\n",
    "\n",
    "Get descriptive statistics (the central tendency, dispersion and shape of a dataset’s distribution) for each continent group (AS, EU, AF, NA, SA, OC).\n",
    "Determine whether there is any difference (on the average) for the math scores among European (EU) and Asian (AS) countries (assume normality and equal variances). Draw side-by-side box plots.\n",
    "CHECK: statistic=0.870055317967983, pvalue=0.38826888111307345"
   ]
  },
  {
   "cell_type": "code",
   "execution_count": 52,
   "id": "0b2306ba",
   "metadata": {},
   "outputs": [],
   "source": [
    "pisa = pd.read_csv(\"2015 PISA Test - Sheet1.csv\")"
   ]
  },
  {
   "cell_type": "code",
   "execution_count": 53,
   "id": "27834448",
   "metadata": {},
   "outputs": [
    {
     "data": {
      "text/html": [
       "<div>\n",
       "<style scoped>\n",
       "    .dataframe tbody tr th:only-of-type {\n",
       "        vertical-align: middle;\n",
       "    }\n",
       "\n",
       "    .dataframe tbody tr th {\n",
       "        vertical-align: top;\n",
       "    }\n",
       "\n",
       "    .dataframe thead th {\n",
       "        text-align: right;\n",
       "    }\n",
       "</style>\n",
       "<table border=\"1\" class=\"dataframe\">\n",
       "  <thead>\n",
       "    <tr style=\"text-align: right;\">\n",
       "      <th></th>\n",
       "      <th>Country Code</th>\n",
       "      <th>Continent_Code</th>\n",
       "      <th>internet_users_per_100</th>\n",
       "      <th>Math</th>\n",
       "      <th>Reading</th>\n",
       "      <th>Science</th>\n",
       "    </tr>\n",
       "  </thead>\n",
       "  <tbody>\n",
       "    <tr>\n",
       "      <th>0</th>\n",
       "      <td>ALB</td>\n",
       "      <td>EU</td>\n",
       "      <td>63.252933</td>\n",
       "      <td>413.1570</td>\n",
       "      <td>405.2588</td>\n",
       "      <td>427.2250</td>\n",
       "    </tr>\n",
       "    <tr>\n",
       "      <th>1</th>\n",
       "      <td>ARE</td>\n",
       "      <td>AS</td>\n",
       "      <td>90.500000</td>\n",
       "      <td>427.4827</td>\n",
       "      <td>433.5423</td>\n",
       "      <td>436.7311</td>\n",
       "    </tr>\n",
       "    <tr>\n",
       "      <th>2</th>\n",
       "      <td>ARG</td>\n",
       "      <td>SA</td>\n",
       "      <td>68.043064</td>\n",
       "      <td>409.0333</td>\n",
       "      <td>425.3031</td>\n",
       "      <td>432.2262</td>\n",
       "    </tr>\n",
       "    <tr>\n",
       "      <th>3</th>\n",
       "      <td>AUS</td>\n",
       "      <td>OC</td>\n",
       "      <td>84.560519</td>\n",
       "      <td>493.8962</td>\n",
       "      <td>502.9006</td>\n",
       "      <td>509.9939</td>\n",
       "    </tr>\n",
       "    <tr>\n",
       "      <th>4</th>\n",
       "      <td>AUT</td>\n",
       "      <td>EU</td>\n",
       "      <td>83.940142</td>\n",
       "      <td>496.7423</td>\n",
       "      <td>484.8656</td>\n",
       "      <td>495.0375</td>\n",
       "    </tr>\n",
       "  </tbody>\n",
       "</table>\n",
       "</div>"
      ],
      "text/plain": [
       "  Country Code Continent_Code  internet_users_per_100      Math   Reading  \\\n",
       "0          ALB             EU               63.252933  413.1570  405.2588   \n",
       "1          ARE             AS               90.500000  427.4827  433.5423   \n",
       "2          ARG             SA               68.043064  409.0333  425.3031   \n",
       "3          AUS             OC               84.560519  493.8962  502.9006   \n",
       "4          AUT             EU               83.940142  496.7423  484.8656   \n",
       "\n",
       "    Science  \n",
       "0  427.2250  \n",
       "1  436.7311  \n",
       "2  432.2262  \n",
       "3  509.9939  \n",
       "4  495.0375  "
      ]
     },
     "execution_count": 53,
     "metadata": {},
     "output_type": "execute_result"
    }
   ],
   "source": [
    "pisa.head()"
   ]
  },
  {
   "cell_type": "code",
   "execution_count": 55,
   "id": "1ad6a066",
   "metadata": {},
   "outputs": [
    {
     "data": {
      "text/html": [
       "<div>\n",
       "<style scoped>\n",
       "    .dataframe tbody tr th:only-of-type {\n",
       "        vertical-align: middle;\n",
       "    }\n",
       "\n",
       "    .dataframe tbody tr th {\n",
       "        vertical-align: top;\n",
       "    }\n",
       "\n",
       "    .dataframe thead th {\n",
       "        text-align: right;\n",
       "    }\n",
       "</style>\n",
       "<table border=\"1\" class=\"dataframe\">\n",
       "  <thead>\n",
       "    <tr style=\"text-align: right;\">\n",
       "      <th></th>\n",
       "      <th>count</th>\n",
       "      <th>mean</th>\n",
       "      <th>std</th>\n",
       "      <th>min</th>\n",
       "      <th>25%</th>\n",
       "      <th>50%</th>\n",
       "      <th>75%</th>\n",
       "      <th>max</th>\n",
       "    </tr>\n",
       "  </thead>\n",
       "  <tbody>\n",
       "    <tr>\n",
       "      <th>internet_users_per_100</th>\n",
       "      <td>70.0</td>\n",
       "      <td>71.973099</td>\n",
       "      <td>16.390632</td>\n",
       "      <td>21.976068</td>\n",
       "      <td>60.899020</td>\n",
       "      <td>72.99935</td>\n",
       "      <td>85.026763</td>\n",
       "      <td>98.2000</td>\n",
       "    </tr>\n",
       "    <tr>\n",
       "      <th>Math</th>\n",
       "      <td>70.0</td>\n",
       "      <td>460.971557</td>\n",
       "      <td>53.327205</td>\n",
       "      <td>327.702000</td>\n",
       "      <td>417.416075</td>\n",
       "      <td>477.60715</td>\n",
       "      <td>500.482925</td>\n",
       "      <td>564.1897</td>\n",
       "    </tr>\n",
       "    <tr>\n",
       "      <th>Reading</th>\n",
       "      <td>70.0</td>\n",
       "      <td>460.997291</td>\n",
       "      <td>49.502679</td>\n",
       "      <td>346.549000</td>\n",
       "      <td>426.948625</td>\n",
       "      <td>480.19985</td>\n",
       "      <td>499.687475</td>\n",
       "      <td>535.1002</td>\n",
       "    </tr>\n",
       "    <tr>\n",
       "      <th>Science</th>\n",
       "      <td>70.0</td>\n",
       "      <td>465.439093</td>\n",
       "      <td>48.397254</td>\n",
       "      <td>331.638800</td>\n",
       "      <td>425.923375</td>\n",
       "      <td>475.40005</td>\n",
       "      <td>502.431250</td>\n",
       "      <td>555.5747</td>\n",
       "    </tr>\n",
       "  </tbody>\n",
       "</table>\n",
       "</div>"
      ],
      "text/plain": [
       "                        count        mean        std         min         25%  \\\n",
       "internet_users_per_100   70.0   71.973099  16.390632   21.976068   60.899020   \n",
       "Math                     70.0  460.971557  53.327205  327.702000  417.416075   \n",
       "Reading                  70.0  460.997291  49.502679  346.549000  426.948625   \n",
       "Science                  70.0  465.439093  48.397254  331.638800  425.923375   \n",
       "\n",
       "                              50%         75%       max  \n",
       "internet_users_per_100   72.99935   85.026763   98.2000  \n",
       "Math                    477.60715  500.482925  564.1897  \n",
       "Reading                 480.19985  499.687475  535.1002  \n",
       "Science                 475.40005  502.431250  555.5747  "
      ]
     },
     "execution_count": 55,
     "metadata": {},
     "output_type": "execute_result"
    }
   ],
   "source": [
    "pisa.describe().T"
   ]
  },
  {
   "cell_type": "code",
   "execution_count": 72,
   "id": "da01965f",
   "metadata": {},
   "outputs": [
    {
     "data": {
      "text/html": [
       "<div>\n",
       "<style scoped>\n",
       "    .dataframe tbody tr th:only-of-type {\n",
       "        vertical-align: middle;\n",
       "    }\n",
       "\n",
       "    .dataframe tbody tr th {\n",
       "        vertical-align: top;\n",
       "    }\n",
       "\n",
       "    .dataframe thead th {\n",
       "        text-align: right;\n",
       "    }\n",
       "</style>\n",
       "<table border=\"1\" class=\"dataframe\">\n",
       "  <thead>\n",
       "    <tr style=\"text-align: right;\">\n",
       "      <th></th>\n",
       "      <th>count</th>\n",
       "      <th>mean</th>\n",
       "      <th>std</th>\n",
       "      <th>min</th>\n",
       "      <th>25%</th>\n",
       "      <th>50%</th>\n",
       "      <th>75%</th>\n",
       "      <th>max</th>\n",
       "    </tr>\n",
       "    <tr>\n",
       "      <th>Continent_Code</th>\n",
       "      <th></th>\n",
       "      <th></th>\n",
       "      <th></th>\n",
       "      <th></th>\n",
       "      <th></th>\n",
       "      <th></th>\n",
       "      <th></th>\n",
       "      <th></th>\n",
       "    </tr>\n",
       "  </thead>\n",
       "  <tbody>\n",
       "    <tr>\n",
       "      <th>AF</th>\n",
       "      <td>2.0</td>\n",
       "      <td>363.212100</td>\n",
       "      <td>5.099513</td>\n",
       "      <td>359.6062</td>\n",
       "      <td>361.409150</td>\n",
       "      <td>363.21210</td>\n",
       "      <td>365.015050</td>\n",
       "      <td>366.8180</td>\n",
       "    </tr>\n",
       "    <tr>\n",
       "      <th>AS</th>\n",
       "      <td>17.0</td>\n",
       "      <td>466.216647</td>\n",
       "      <td>64.356490</td>\n",
       "      <td>380.2590</td>\n",
       "      <td>403.833200</td>\n",
       "      <td>459.81600</td>\n",
       "      <td>531.296100</td>\n",
       "      <td>564.1897</td>\n",
       "    </tr>\n",
       "    <tr>\n",
       "      <th>EU</th>\n",
       "      <td>37.0</td>\n",
       "      <td>477.981449</td>\n",
       "      <td>35.150403</td>\n",
       "      <td>371.3114</td>\n",
       "      <td>464.040100</td>\n",
       "      <td>489.72870</td>\n",
       "      <td>503.722000</td>\n",
       "      <td>521.2506</td>\n",
       "    </tr>\n",
       "    <tr>\n",
       "      <th>OC</th>\n",
       "      <td>2.0</td>\n",
       "      <td>494.559750</td>\n",
       "      <td>0.938401</td>\n",
       "      <td>493.8962</td>\n",
       "      <td>494.227975</td>\n",
       "      <td>494.55975</td>\n",
       "      <td>494.891525</td>\n",
       "      <td>495.2233</td>\n",
       "    </tr>\n",
       "    <tr>\n",
       "      <th>SA</th>\n",
       "      <td>7.0</td>\n",
       "      <td>402.887700</td>\n",
       "      <td>18.128894</td>\n",
       "      <td>377.0695</td>\n",
       "      <td>388.102200</td>\n",
       "      <td>409.03330</td>\n",
       "      <td>417.617650</td>\n",
       "      <td>422.6714</td>\n",
       "    </tr>\n",
       "  </tbody>\n",
       "</table>\n",
       "</div>"
      ],
      "text/plain": [
       "                count        mean        std       min         25%        50%  \\\n",
       "Continent_Code                                                                  \n",
       "AF                2.0  363.212100   5.099513  359.6062  361.409150  363.21210   \n",
       "AS               17.0  466.216647  64.356490  380.2590  403.833200  459.81600   \n",
       "EU               37.0  477.981449  35.150403  371.3114  464.040100  489.72870   \n",
       "OC                2.0  494.559750   0.938401  493.8962  494.227975  494.55975   \n",
       "SA                7.0  402.887700  18.128894  377.0695  388.102200  409.03330   \n",
       "\n",
       "                       75%       max  \n",
       "Continent_Code                        \n",
       "AF              365.015050  366.8180  \n",
       "AS              531.296100  564.1897  \n",
       "EU              503.722000  521.2506  \n",
       "OC              494.891525  495.2233  \n",
       "SA              417.617650  422.6714  "
      ]
     },
     "execution_count": 72,
     "metadata": {},
     "output_type": "execute_result"
    }
   ],
   "source": [
    "pisa.groupby(\"Continent_Code\")[\"Math\"].describe()"
   ]
  },
  {
   "cell_type": "code",
   "execution_count": 63,
   "id": "2dcf25dd",
   "metadata": {},
   "outputs": [
    {
     "data": {
      "text/plain": [
       "1     427.4827\n",
       "11    531.2961\n",
       "25    403.8332\n",
       "27    547.9310\n",
       "30    386.1096\n",
       "33    469.6695\n",
       "35    380.2590\n",
       "36    532.4399\n",
       "37    459.8160\n",
       "38    524.1062\n",
       "39    396.2497\n",
       "43    543.8078\n",
       "49    446.1098\n",
       "56    402.4007\n",
       "59    564.1897\n",
       "63    415.4638\n",
       "69    494.5183\n",
       "Name: Math, dtype: float64"
      ]
     },
     "execution_count": 63,
     "metadata": {},
     "output_type": "execute_result"
    }
   ],
   "source": [
    "#df.Tetrahydrocortisone[df.Type==\"a\"]\n",
    "matAS = pisa[pisa.Continent_Code == \"AS\"][\"Math\"]\n",
    "matAS"
   ]
  },
  {
   "cell_type": "code",
   "execution_count": 64,
   "id": "de7ee492",
   "metadata": {},
   "outputs": [
    {
     "data": {
      "text/plain": [
       "0     413.1570\n",
       "4     496.7423\n",
       "5     506.9844\n",
       "6     441.1899\n",
       "9     521.2506\n",
       "14    437.1443\n",
       "15    492.3254\n",
       "16    505.9713\n",
       "17    511.0876\n",
       "20    485.8432\n",
       "21    519.5291\n",
       "22    511.0769\n",
       "23    492.9204\n",
       "24    492.4785\n",
       "26    453.6299\n",
       "28    464.0401\n",
       "29    476.8309\n",
       "31    503.7220\n",
       "32    488.0332\n",
       "34    489.7287\n",
       "40    478.3834\n",
       "41    485.7706\n",
       "42    482.3051\n",
       "44    419.6635\n",
       "46    371.3114\n",
       "47    478.6448\n",
       "48    417.9341\n",
       "50    512.2528\n",
       "51    501.7298\n",
       "54    504.4693\n",
       "55    491.6270\n",
       "57    443.9543\n",
       "58    494.0600\n",
       "60    475.2301\n",
       "61    509.9196\n",
       "62    493.9181\n",
       "66    420.4540\n",
       "Name: Math, dtype: float64"
      ]
     },
     "execution_count": 64,
     "metadata": {},
     "output_type": "execute_result"
    }
   ],
   "source": [
    "matEU = pisa[pisa.Continent_Code == \"EU\"][\"Math\"]\n",
    "matEU"
   ]
  },
  {
   "cell_type": "code",
   "execution_count": null,
   "id": "2b6e3462",
   "metadata": {},
   "outputs": [],
   "source": [
    "ho: matAS = matEU\n",
    "h1: matAS != matEU"
   ]
  },
  {
   "cell_type": "code",
   "execution_count": 69,
   "id": "5dba26f6",
   "metadata": {},
   "outputs": [
    {
     "data": {
      "text/plain": [
       "Ttest_indResult(statistic=-0.870055317967983, pvalue=0.38826888111307345)"
      ]
     },
     "execution_count": 69,
     "metadata": {},
     "output_type": "execute_result"
    }
   ],
   "source": [
    "indTest = stats.ttest_ind(matAS, matEU, equal_var = True, alternative=\"two-sided\")\n",
    "indTest"
   ]
  },
  {
   "cell_type": "code",
   "execution_count": 66,
   "id": "f0f3f0f6",
   "metadata": {},
   "outputs": [
    {
     "name": "stdout",
     "output_type": "stream",
     "text": [
      "At 0.05 level of significance, we fail to reject the null hypothesis.\n"
     ]
    }
   ],
   "source": [
    "alpha = 0.05\n",
    "if indTest.pvalue/2<alpha:\n",
    "    print('At {} level of significance, we can reject the null hypothesis in favor of alternative hypothesis.'.format(alpha))\n",
    "else:\n",
    "    print('At {} level of significance, we fail to reject the null hypothesis.'.format(alpha))"
   ]
  },
  {
   "cell_type": "code",
   "execution_count": 78,
   "id": "daa041e2",
   "metadata": {},
   "outputs": [
    {
     "data": {
      "text/plain": [
       "<AxesSubplot:xlabel='Math'>"
      ]
     },
     "execution_count": 78,
     "metadata": {},
     "output_type": "execute_result"
    },
    {
     "data": {
      "image/png": "[encoded data removed]",
      "text/plain": [
       "<Figure size 640x480 with 1 Axes>"
      ]
     },
     "metadata": {},
     "output_type": "display_data"
    }
   ],
   "source": [
    "sns.boxplot( x = matAS)"
   ]
  },
  {
   "cell_type": "code",
   "execution_count": 79,
   "id": "2f9a14dc",
   "metadata": {},
   "outputs": [
    {
     "data": {
      "text/plain": [
       "<AxesSubplot:xlabel='Math'>"
      ]
     },
     "execution_count": 79,
     "metadata": {},
     "output_type": "execute_result"
    },
    {
     "data": {
      "image/png": "[encoded data removed]",
      "text/plain": [
       "<Figure size 640x480 with 1 Axes>"
      ]
     },
     "metadata": {},
     "output_type": "display_data"
    }
   ],
   "source": [
    "sns.boxplot( x = matEU)"
   ]
  },
  {
   "cell_type": "code",
   "execution_count": 82,
   "id": "56a2c924",
   "metadata": {},
   "outputs": [
    {
     "data": {
      "text/plain": [
       "<AxesSubplot:>"
      ]
     },
     "execution_count": 82,
     "metadata": {},
     "output_type": "execute_result"
    },
    {
     "data": {
      "image/png": "[encoded data removed]",
      "text/plain": [
       "<Figure size 640x480 with 1 Axes>"
      ]
     },
     "metadata": {},
     "output_type": "display_data"
    }
   ],
   "source": [
    "sns.boxplot(data =[ matEU,matAS])"
   ]
  },
  {
   "cell_type": "code",
   "execution_count": null,
   "id": "b2b37e21",
   "metadata": {},
   "outputs": [],
   "source": []
  }
 ],
 "metadata": {
  "kernelspec": {
   "display_name": "Python 3 (ipykernel)",
   "language": "python",
   "name": "python3"
  },
  "language_info": {
   "codemirror_mode": {
    "name": "ipython",
    "version": 3
   },
   "file_extension": ".py",
   "mimetype": "text/x-python",
   "name": "python",
   "nbconvert_exporter": "python",
   "pygments_lexer": "ipython3",
   "version": "3.9.13"
  }
 },
 "nbformat": 4,
 "nbformat_minor": 5
}
